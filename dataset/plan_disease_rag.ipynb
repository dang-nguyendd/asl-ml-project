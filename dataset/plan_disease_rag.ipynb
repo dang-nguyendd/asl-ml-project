{
 "cells": [
  {
   "cell_type": "code",
   "execution_count": 1,
   "id": "04c1c71a-011f-4477-9661-146c5c2e54a1",
   "metadata": {
    "tags": []
   },
   "outputs": [],
   "source": [
    "# !pip install langchain chromadb google-cloud-aiplatform unstructured jq langchain-community langchain-google-vertexai"
   ]
  },
  {
   "cell_type": "code",
   "execution_count": 2,
   "id": "46b2f561-baab-4893-b9d5-7a730a2a1b78",
   "metadata": {
    "tags": []
   },
   "outputs": [
    {
     "ename": "ModuleNotFoundError",
     "evalue": "No module named 'langchain'",
     "output_type": "error",
     "traceback": [
      "\u001b[0;31m---------------------------------------------------------------------------\u001b[0m",
      "\u001b[0;31mModuleNotFoundError\u001b[0m                       Traceback (most recent call last)",
      "Cell \u001b[0;32mIn[2], line 3\u001b[0m\n\u001b[1;32m      1\u001b[0m \u001b[38;5;28;01mimport\u001b[39;00m \u001b[38;5;21;01mpandas\u001b[39;00m \u001b[38;5;28;01mas\u001b[39;00m \u001b[38;5;21;01mpd\u001b[39;00m\n\u001b[1;32m      2\u001b[0m \u001b[38;5;28;01mimport\u001b[39;00m \u001b[38;5;21;01mscipy\u001b[39;00m\n\u001b[0;32m----> 3\u001b[0m \u001b[38;5;28;01mfrom\u001b[39;00m \u001b[38;5;21;01mlangchain\u001b[39;00m\u001b[38;5;21;01m.\u001b[39;00m\u001b[38;5;21;01mchains\u001b[39;00m \u001b[38;5;28;01mimport\u001b[39;00m ConversationalRetrievalChain, RetrievalQA\n\u001b[1;32m      4\u001b[0m \u001b[38;5;28;01mfrom\u001b[39;00m \u001b[38;5;21;01mlangchain\u001b[39;00m\u001b[38;5;21;01m.\u001b[39;00m\u001b[38;5;21;01mdocument_loaders\u001b[39;00m \u001b[38;5;28;01mimport\u001b[39;00m WikipediaLoader\n\u001b[1;32m      5\u001b[0m \u001b[38;5;28;01mfrom\u001b[39;00m \u001b[38;5;21;01mlangchain_google_vertexai\u001b[39;00m \u001b[38;5;28;01mimport\u001b[39;00m VertexAIEmbeddings\n",
      "\u001b[0;31mModuleNotFoundError\u001b[0m: No module named 'langchain'"
     ]
    }
   ],
   "source": [
    "import json\n",
    "from langchain.chains import ConversationalRetrievalChain, RetrievalQA\n",
    "from langchain_google_vertexai import VertexAIEmbeddings\n",
    "from langchain_google_vertexai import VertexAI\n",
    "from langchain_community.vectorstores import Chroma\n",
    "from vertexai.language_models import TextEmbeddingModel, TextGenerationModel\n",
    "from langchain.prompts import PromptTemplate\n",
    "from langchain_core.documents import Document\n",
    "import vertexai"
   ]
  },
  {
   "cell_type": "code",
   "execution_count": null,
   "id": "b22a3c42-bd59-4bbe-9af6-827a9518df21",
   "metadata": {
    "tags": []
   },
   "outputs": [],
   "source": [
    "PROJECT_ID = !gcloud config get-value project  # noqa: E999\n",
    "PROJECT_ID = PROJECT_ID[0]\n",
    "LOCATION = \"us-central1\"\n",
    "\n",
    "# Initialize Vertex AI\n",
    "vertexai.init(project=PROJECT_ID, location=LOCATION)"
   ]
  },
  {
   "cell_type": "code",
   "execution_count": null,
   "id": "75e1a41f-fa49-42de-bf56-c2d2d03d3277",
   "metadata": {
    "tags": []
   },
   "outputs": [],
   "source": [
    "with open(\"tomato_diseases.json\", \"r\") as f:\n",
    "    json_data = json.load(f)\n",
    "\n",
    "documents = []  # List to store Langchain documents\n",
    "\n",
    "for disease, treatment in json_data.items():\n",
    "    document = Document(\n",
    "        page_content=f\"{disease}: {treatment}\"\n",
    "    )  # Combine disease and treatment\n",
    "    documents.append(document)"
   ]
  },
  {
   "cell_type": "code",
   "execution_count": null,
   "id": "18b042d1-fc56-46d4-9f39-e10454dbfa44",
   "metadata": {},
   "outputs": [],
   "source": [
    "embedding_function = VertexAIEmbeddings(\n",
    "    model_name=\"text-embedding-004\"\n",
    ")\n",
    "db = Chroma.from_documents(documents, embedding_function)"
   ]
  },
  {
   "cell_type": "code",
   "execution_count": null,
   "id": "a218f257-4c00-4f80-a144-1c0090011dc5",
   "metadata": {
    "tags": []
   },
   "outputs": [],
   "source": [
    "query = \"How to handle Bacterial Spot?\"\n",
    "docs = db.similarity_search(query, k=1)\n",
    "print(docs[0].page_content)"
   ]
  },
  {
   "cell_type": "code",
   "execution_count": null,
   "id": "82442130-87f9-41e7-89a3-03d7913dc2b8",
   "metadata": {
    "tags": []
   },
   "outputs": [],
   "source": [
    "retriever = db.as_retriever(\n",
    "    search_type=\"similarity\",\n",
    "    search_kwargs={\"k\": 1},\n",
    ")\n",
    "\n",
    "\n",
    "llm = VertexAI(model_name=\"text-bison@001\", max_output_tokens=1024)\n",
    "\n",
    "# q/a chain\n",
    "qa = RetrievalQA.from_chain_type(\n",
    "    llm=llm,\n",
    "    chain_type=\"stuff\",\n",
    "    retriever=retriever,\n",
    "    return_source_documents=True,\n",
    ")"
   ]
  },
  {
   "cell_type": "code",
   "execution_count": null,
   "id": "e7f8a589-ad2c-4fd0-9f5b-b2ef70e4318f",
   "metadata": {
    "tags": []
   },
   "outputs": [],
   "source": [
    "def ask_question(question: str):\n",
    "    prompt_template = f\"\"\"\n",
    "    You are an expert in agricultural diseases. Please provide a detailed, easy-to-understand explanation for the following question:\n",
    "    \n",
    "    {question}\n",
    "    \n",
    "    Your response should be natural and conversational.\n",
    "    \"\"\"\n",
    "    response = qa.invoke({\"query\": prompt_template})\n",
    "    print(f\"Response: {response['result']}\\n\")"
   ]
  },
  {
   "cell_type": "code",
   "execution_count": null,
   "id": "1edfde41-a6e5-4960-b6a2-e622d00bb896",
   "metadata": {
    "tags": []
   },
   "outputs": [],
   "source": [
    "ask_question(\"How to handle Late Blight?\")"
   ]
  }
 ],
 "metadata": {
  "environment": {
   "kernel": "python3",
   "name": "tf2-gpu.2-12.m122",
   "type": "gcloud",
   "uri": "us-docker.pkg.dev/deeplearning-platform-release/gcr.io/tf2-gpu.2-12:m122"
  },
  "kernelspec": {
   "display_name": "Python 3 (Local)",
   "language": "python",
   "name": "python3"
  },
  "language_info": {
   "codemirror_mode": {
    "name": "ipython",
    "version": 3
   },
   "file_extension": ".py",
   "mimetype": "text/x-python",
   "name": "python",
   "nbconvert_exporter": "python",
   "pygments_lexer": "ipython3",
   "version": "3.10.14"
  }
 },
 "nbformat": 4,
 "nbformat_minor": 5
}
